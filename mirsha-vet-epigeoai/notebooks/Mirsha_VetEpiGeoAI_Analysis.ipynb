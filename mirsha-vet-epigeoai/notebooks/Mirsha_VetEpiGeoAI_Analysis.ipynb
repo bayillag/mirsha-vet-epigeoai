{
  "cells": [
    {
      "cell_type": "markdown",
      "metadata": {
        "id": "4GfroVcTe45F"
      },
      "source": [
        "# Mirsha VetEpiGeoAI: Interactive Analysis Notebook\n",
        "\n",
        "This notebook provides a detailed walkthrough of the data processing and spatial analysis for the project. It clones the main GitHub repository to ensure full reproducibility.\n",
        "\n",
        "**Links:**\n",
        "- [Main GitHub Repository](https://github.com/bayillag/mirsha-vet-epigeoai)\n",
        "- [Operational Dashboard (via Codespaces)](https://codespaces.new/bayillag/mirsha-vet-epigeoai)"
      ]
    },
    {
      "cell_type": "code",
      "execution_count": null,
      "metadata": {
        "id": "iKFwlP0te45N"
      },
      "outputs": [],
      "source": [
        "# Step 1: Install Libraries\n",
        "!pip install -q geopandas pysal folium mapclassify\n",
        "\n",
        "# Step 2: Clone the Project Repository\n",
        "import os\n",
        "REPO_URL = \"https://github.com/bayillag/mirsha-vet-epigeoai.git\"\n",
        "REPO_NAME = \"mirsha-vet-epigeoai\"\n",
        "\n",
        "if not os.path.exists(REPO_NAME):\n",
        "    print(f\"Cloning {REPO_URL}...\")\n",
        "    !git clone -q {REPO_URL}\n",
        "else:\n",
        "    print(\"Repository already cloned.\")\n",
        "\n",
        "# Step 3: Load data from the repository\n",
        "import pandas as pd\n",
        "cases_path = f'{REPO_NAME}/data/raw/cases/dovar_ii_cases.csv' # Example path\n",
        "print(f'Data can now be loaded from {cases_path}')"
      ]
    }
  ],
  "metadata": {
    "kernelspec": {
      "display_name": "Python 3",
      "language": "python",
      "name": "python3"
    },
    "language_info": {
      "name": "python"
    },
    "colab": {
      "provenance": []
    }
  },
  "nbformat": 4,
  "nbformat_minor": 0
}