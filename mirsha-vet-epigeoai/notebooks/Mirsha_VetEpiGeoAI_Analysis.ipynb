{
 "cells": [
  {
   "cell_type": "markdown",
   "metadata": {},
   "source": [
    "# Mirsha VetEpiGeoAI: Interactive Analysis Notebook\n\nThis notebook provides a detailed walkthrough of the data processing and spatial analysis for the project. It clones the main GitHub repository to ensure full reproducibility.\n\n**Links:**\n- [Main GitHub Repository](https://github.com/bayillag/mirsha-vet-epigeoai)\n- [Operational Dashboard (via Codespaces)](https://codespaces.new/bayillag/mirsha-vet-epigeoai)"
   ]
  },
  {
   "cell_type": "code",
   "execution_count": null,
   "metadata": {},
   "outputs": [],
   "source": [
    "# Step 1: Install Libraries\n!pip install -q geopandas pysal folium mapclassify\n\n# Step 2: Clone the Project Repository\nimport os\nREPO_URL = \"https://github.com/bayillag/mirsha-vet-epigeoai.git\"\nREPO_NAME = \"mirsha-vet-epigeoai\"\n\nif not os.path.exists(REPO_NAME):\n    print(f\"Cloning {REPO_URL}...\")\n    !git clone -q {REPO_URL}\nelse:\n    print(\"Repository already cloned.\")\n\n# Step 3: Load data from the repository\nimport pandas as pd\ncases_path = f'{REPO_NAME}/data/raw/cases/dovar_ii_cases.csv' # Example path\nprint(f'Data can now be loaded from {cases_path}')"
   ]
  }
 ],
 "metadata": {
  "kernelspec": {
   "display_name": "Python 3",
   "language": "python",
   "name": "python3"
  },
  "language_info": {
   "name": "python"
  }
 },
 "nbformat": 4,
 "nbformat_minor": 2
}
