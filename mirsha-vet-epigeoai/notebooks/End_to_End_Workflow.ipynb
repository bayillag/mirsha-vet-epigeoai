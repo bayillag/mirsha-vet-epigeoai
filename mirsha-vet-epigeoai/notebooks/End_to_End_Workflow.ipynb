{
 "cells": [
  {
   "cell_type": "markdown",
   "metadata": {},
   "source": [
    "# Mirsha VetEpiGeoAI: End-to-End User Workflow\n",
    "\n",
    "This notebook serves as an interactive user manual and demonstration of the complete workflow for the Mirsha VetEpiGeoAI platform. It simulates the entire lifecycle of an animal health event, from initial setup to strategic analysis.\n",
    "\n",
    "**Objective:** To provide a clear, step-by-step, and reproducible guide for users, trainers, and developers."
   ]
  },
  {
   "cell_type": "markdown",
   "metadata": {},
   "source": [
    "## Phase 1: Initial Platform Setup\n",
    "\n",
    "This phase is performed once to initialize the environment and populate the database with both structural (GIS) and example (case) data. This section simulates the actions a platform administrator would take."
   ]
  },
  {
   "cell_type": "code",
   "execution_count": null,
   "metadata": {},
   "outputs": [],
   "source": [
    "# Step 1: Clone the Repository and Install Dependencies\n",
    "import os\n",
    "import sys\n",
    "\n",
    "REPO_URL = \"https://github.com/bayillag/mirsha-vet-epigeoai.git\"\n",
    "REPO_NAME = \"mirsha-vet-epigeoai\"\n",
    "\n",
    "if not os.path.exists(REPO_NAME):\n",
    "    print(f\"Cloning {REPO_URL}...\")\n",
    "    !git clone -q {REPO_URL}\n",
    "else:\n",
    "    print(\"Repository already exists.\")\n",
    "\n",
    "# Change directory into the project and install requirements\n",
    "os.chdir(REPO_NAME)\n",
    "print(\"\\n⏳ Installing Python dependencies...\")\n",
    "!pip install -q -r requirements.txt\n",
    "print(\"✅ Dependencies installed.\")\n",
    "\n",
    "# Add src to path to allow imports\n",
    "sys.path.append(os.path.abspath('src'))"
   ]
  },
  {
   "cell_type": "code",
   "execution_count": null,
   "metadata": {},
   "outputs": [],
   "source": [
    "# Step 2: Generate all necessary data files\n",
    "print(\"--- Generating Data Files ---\")\n",
    "!python src/scripts/generate_gis_data.py\n",
    "!python src/scripts/generate_mock_cases.py\n",
    "!python src/scripts/generate_risk_data.py"
   ]
  },
  {
   "cell_type": "code",
   "execution_count": null,
   "metadata": {},
   "outputs": [],
   "source": [
    "# Step 3: Initialize and Populate the Database\n",
    "# NOTE: This step assumes the Docker/Codespaces database is running.\n",
    "# In a local environment, you would need PostgreSQL running.\n",
    "print(\"--- Setting up the Database ---\")\n",
    "!python src/scripts/setup_database.py"
   ]
  },
  {
   "cell_type": "markdown",
   "metadata": {},
   "source": [
    "### Platform is now set up and ready.\n",
    "\n",
    "To launch the interactive dashboard, you would run `streamlit run app.py` from the terminal. The following sections will simulate the workflow by calling the platform's core functions directly."
   ]
  },
  {
   "cell_type": "markdown",
   "metadata": {},
   "source": [
    "## Phase 2: Simulating an Outbreak Response\n",
    "\n",
    "This section simulates the workflow of a field officer and a regional manager responding to a new event."
   ]
  },
  {
   "cell_type": "code",
   "execution_count": null,
   "metadata": {},
   "outputs": [],
   "source": [
    "from src.core import database as db\n",
    "import datetime\n",
    "import pandas as pd\n",
    "import streamlit as st # Import for mocking\n",
    "\n",
    "print(\"--- Simulating Outbreak Response Workflow ---\")\n",
    "\n",
    "# Step 5: File an Initial Report (Module 1)\n",
    "print(\"\\nStep 5: Filing new outbreak report...\")\n",
    "success, message = db.add_new_outbreak_report(\n",
    "    reporter_name='Farmer Kedir',\n",
    "    woreda_name='Hamer',\n",
    "    lat=5.10,\n",
    "    lon=36.60,\n",
    "    species=['Cattle', 'Goats'],\n",
    "    complaint='Several animals are weak, drooling, and have blisters on their feet.',\n",
    "    report_date=datetime.date.today()\n",
    ")\n",
    "print(f\">> {message}\")\n",
    "\n",
    "# Step 6: Triage and Assign the Report (Module 1)\n",
    "print(\"\\nStep 6: Triage - Assigning report to an investigator...\")\n",
    "unassigned = db.get_unassigned_reports()\n",
    "if not unassigned.empty:\n",
    "    outbreak_to_assign = unassigned.iloc[0]\n",
    "    outbreak_id = outbreak_to_assign['outbreak_id']\n",
    "    success, message = db.assign_investigator_to_outbreak(outbreak_id, 'Dr. Alemayehu')\n",
    "    print(f\">> {message}\")\n",
    "else:\n",
    "    print(\">> No unassigned reports found to assign.\")\n",
    "    outbreak_id = None\n",
    "\n",
    "# Step 7 & 8: Submit Full Investigation & Lab Results (Module 2 & 7)\n",
    "if outbreak_id:\n",
    "    print(f\"\\nStep 7: Submitting full investigation for Outbreak ID {outbreak_id}...\")\n",
    "    form_data = {'first_signs_date': '2023-10-28', 'clinical_signs': ['Drooling saliva', 'Blisters on mouth/feet/udder']}\n",
    "    line_list = pd.DataFrame([{'Species': 'Cattle', 'Susceptible': 200, 'Cases': 30, 'Deaths': 5, 'Date': datetime.date(2023, 10, 28)}])\n",
    "    samples = pd.DataFrame([{'Field ID': 'HMR-001A', 'Sample Type': 'Blood (Serum)', 'Laboratory': 'NAHDIC', 'Submission Date': datetime.date.today()}])\n",
    "    \n",
    "    success, message = db.submit_full_investigation(outbreak_id, datetime.date.today(), form_data, line_list, samples)\n",
    "    print(f\">> {message}\")\n",
    "\n",
    "    print(\"\\nStep 8: Submitting lab results...\")\n",
    "    sample_details = db.get_sample_by_field_id('HMR-001A')\n",
    "    if sample_details:\n",
    "        success, message = db.submit_lab_result(sample_details['id'], outbreak_id, 'Positive', 'FMD-Type O', datetime.date.today())\n",
    "        print(f\">> {message}\")\n",
    "        print(\"Outbreak status is now automatically 'Confirmed'.\")\n",
    "\n",
    "# Step 9: Add Contact Tracing Links (Module 3)\n",
    "if outbreak_id:\n",
    "    print(f\"\\nStep 9: Adding contact tracing links for Outbreak ID {outbreak_id}...\")\n",
    "    db.add_tracing_link(outbreak_id, 'Turmi Market', 'Market', 4.97, 36.49, datetime.date(2023, 10, 20), 'Animal Movement', 'Trace-back', 'Source of infected animals.')\n",
    "    db.add_tracing_link(outbreak_id, 'Neighboring Farm', 'Farm', 5.12, 36.62, datetime.date(2023, 10, 29), 'Shared Grazing', 'Trace-forward', 'Potential spread.')\n",
    "    print(\">> 2 contact links added.\")"
   ]
  },
  {
   "cell_type": "markdown",
   "metadata": {},
   "source": [
    "## Phase 3: Simulating Strategic Analysis & Planning\n\nThis section simulates the workflow of a national-level epidemiologist using the platform's advanced analytical modules."
   ]
  },
  {
   "cell_type": "code",
   "execution_count": null,
   "metadata": {},
   "outputs": [],
   "source": [
    "from src.core import analysis as an\n",
    "from src.core import economics as econ\n",
    "import matplotlib.pyplot as plt\n",
    "\n",
    "print(\"--- Simulating Strategic Analysis Workflow ---\")\n",
    "\n",
    "# Step 10: Analyze the Situation (Module 4)\n",
    "print(\"\\nStep 10: Running Hotspot Analysis (LISA)...\")\n",
    "woredas_gdf, outbreaks_gdf = db.get_dashboard_data()\n",
    "fmd_gdf = woredas_gdf[woredas_gdf['disease_name'] == 'FMD']\n",
    "lisa_results = an.calculate_lisa(fmd_gdf, 'total_cases')\n",
    "significant_clusters = lisa_results[lisa_results['lisa_p'] <= 0.05]\n",
    "print(\"Statistically Significant Clusters for FMD:\")\n",
    "display(significant_clusters[['woreda_name', 'total_cases', 'cluster_type']])\n",
    "\n",
    "# Step 11: Calculate Economic Impact (Module 11)\n",
    "if outbreak_id:\n",
    "    print(f\"\\nStep 11: Calculating economic cost for Outbreak ID {outbreak_id}...\")\n",
    "    case_data = db.get_cases_for_outbreak(outbreak_id)\n",
    "    costs = econ.calculate_direct_outbreak_cost(case_data)\n",
    "    print(f\">> Total Estimated Direct Cost: {costs['total_cost']:,.0f} ETB\")\n",
    "\n",
    "# Step 16: Simulate Training Scenario (Module 16)\n",
    "from src.core import simulation as sim\n",
    "print(\"\\nStep 16: Simulating a training scenario...\")\n",
    "\n",
    "# Mock Streamlit's session_state for this to run outside the app\n",
    "class MockSessionState:\n",
    "    def __init__(self):\n",
    "        self._state = {}\n",
    "    def __getattr__(self, name):\n",
    "        return self._state.get(name)\n",
    "    def __setattr__(self, name, value):\n",
    "        self._state[name] = value\n",
    "    def get(self, name, default=None):\n",
    "        return self._state.get(name, default)\n",
    "\n",
    "if 'st' not in locals() or not hasattr(st, 'session_state'):\n",
    "    # This ensures we can run the notebook standalone\n",
    "    sim.st = type('MockStreamlit', (), {'session_state': MockSessionState()})()\n",
    "\n",
    "scenario_df = sim.load_scenario_data('fmd_scenario_2021')\n",
    "sim.initialize_simulation_state(scenario_df)\n",
    "sim.get_events_for_day(2) # Advance to day 2\n",
    "sim.log_trainee_action('Initiate Investigation', 'Bena Tsemay')\n",
    "sim.score_action('Initiate Investigation', 'Bena Tsemay', sim.st.session_state['events_revealed'])\n",
    "print(f\">> Training action logged. Current score: {sim.st.session_state['score']}\")\n",
    "print(f\">> Feedback: {sim.st.session_state['feedback'][-1]}\")"
   ]
  }
 ],
 "metadata": {
  "kernelspec": {
   "display_name": "Python 3",
   "language": "python",
   "name": "python3"
  },
  "language_info": {
   "name": "python",
   "version": "3.10.12"
  }
 },
 "nbformat": 4,
 "nbformat_minor": 2
}
